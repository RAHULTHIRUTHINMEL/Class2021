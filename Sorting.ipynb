{
  "nbformat": 4,
  "nbformat_minor": 0,
  "metadata": {
    "colab": {
      "name": "Sorting.ipynb",
      "provenance": [],
      "authorship_tag": "ABX9TyP6ZfhoU9jFxL6FwXUcBsRz",
      "include_colab_link": true
    },
    "kernelspec": {
      "name": "python3",
      "display_name": "Python 3"
    },
    "language_info": {
      "name": "python"
    }
  },
  "cells": [
    {
      "cell_type": "markdown",
      "metadata": {
        "id": "view-in-github",
        "colab_type": "text"
      },
      "source": [
        "<a href=\"https://colab.research.google.com/github/RAHULTHIRUTHINMEL/Class2021/blob/main/Sorting.ipynb\" target=\"_parent\"><img src=\"https://colab.research.google.com/assets/colab-badge.svg\" alt=\"Open In Colab\"/></a>"
      ]
    },
    {
      "cell_type": "code",
      "metadata": {
        "colab": {
          "base_uri": "https://localhost:8080/"
        },
        "id": "Xfjx1bMx9FZZ",
        "outputId": "e92af801-471d-448b-98b9-f634a72f0a68"
      },
      "source": [
        "#bubble swap\n",
        "\n",
        "def sort(nums):\n",
        "  for i in range(len(nums)-1,0,-1):\n",
        "    for j in range(i): \n",
        "      if nums[j] > nums[j+1]:\n",
        "        temp = nums[j]\n",
        "        nums[j]=nums[j+1]\n",
        "        nums[j+1]= temp\n",
        "    \n",
        "nums = [5,3,8,6,7,2]\n",
        "sort(nums)\n",
        "print(nums)"
      ],
      "execution_count": 6,
      "outputs": [
        {
          "output_type": "stream",
          "name": "stdout",
          "text": [
            "[2, 3, 5, 6, 7, 8]\n"
          ]
        }
      ]
    },
    {
      "cell_type": "code",
      "metadata": {
        "colab": {
          "base_uri": "https://localhost:8080/"
        },
        "id": "UavyRppEHEBF",
        "outputId": "eeffda8b-c145-47e2-b34d-34ad53033db5"
      },
      "source": [
        "#selection sort\n",
        "def sort(nums):\n",
        "  for i in range(6):\n",
        "    minpos = i\n",
        "    for j in range(i,6):\n",
        "      if nums[j] < nums[minpos]:\n",
        "        minpos = j\n",
        "\n",
        "    temp = nums[i]\n",
        "    nums[i]=nums[minpos]\n",
        "    nums[minpos]=temp\n",
        "\n",
        "\n",
        "nums = [5,3,8,6,7,2]\n",
        "sort(nums)\n",
        "print(nums)\n"
      ],
      "execution_count": 14,
      "outputs": [
        {
          "output_type": "stream",
          "name": "stdout",
          "text": [
            "[2, 3, 5, 6, 7, 8]\n"
          ]
        }
      ]
    },
    {
      "cell_type": "code",
      "metadata": {
        "colab": {
          "base_uri": "https://localhost:8080/"
        },
        "id": "yfv17RZqOKpz",
        "outputId": "d98cebcd-4c70-4021-8e4e-8b909f8da3a1"
      },
      "source": [
        "#insertion sort\n",
        "def insertion_sort(array):\n",
        "  for i in range(1,len(array)):\n",
        "    j=i\n",
        "    while array[j-1] > array[j] and j>0:\n",
        "      array[j-1],array[j] = array[j],array[j-1]\n",
        "      j-=1\n",
        "array= [2,6,5,1,3,4]\n",
        "insertion_sort(array)\n",
        "print(array)     "
      ],
      "execution_count": 15,
      "outputs": [
        {
          "output_type": "stream",
          "name": "stdout",
          "text": [
            "[1, 2, 3, 4, 5, 6]\n"
          ]
        }
      ]
    }
  ]
}